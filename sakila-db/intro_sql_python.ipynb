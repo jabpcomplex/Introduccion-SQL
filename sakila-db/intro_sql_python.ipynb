{
 "cells": [
  {
   "cell_type": "markdown",
   "id": "8821d2c2",
   "metadata": {},
   "source": [
    "## SQLite con Python en Jupyter Notebook"
   ]
  },
  {
   "cell_type": "code",
   "execution_count": 1,
   "id": "edc7ab84",
   "metadata": {},
   "outputs": [],
   "source": [
    "import sqlite3\n",
    "import pandas as pd"
   ]
  },
  {
   "cell_type": "markdown",
   "id": "18b74253",
   "metadata": {},
   "source": [
    "*obtener directorio de trabajo (get working directory)"
   ]
  },
  {
   "cell_type": "code",
   "execution_count": 26,
   "id": "e2896ac9",
   "metadata": {},
   "outputs": [],
   "source": [
    "import os"
   ]
  },
  {
   "cell_type": "code",
   "execution_count": 27,
   "id": "c194fab0",
   "metadata": {},
   "outputs": [
    {
     "data": {
      "text/plain": [
       "'/home/jabp/Jupyter/SQL'"
      ]
     },
     "execution_count": 27,
     "metadata": {},
     "output_type": "execute_result"
    }
   ],
   "source": [
    "os.getcwd()"
   ]
  },
  {
   "cell_type": "markdown",
   "id": "edb2bd3a",
   "metadata": {},
   "source": [
    "## Cargar una *Base de Datos*"
   ]
  },
  {
   "cell_type": "code",
   "execution_count": 6,
   "id": "f9668969",
   "metadata": {},
   "outputs": [],
   "source": [
    "path = '/home/jabp/SQL/sakila-db/sqlite-sakila.db'\n",
    "sqliteConnection = sqlite3.connect(path)\n",
    "\n",
    "#objeto que sirve para manipular los elementos de una base de datos consultas (query)\n",
    "cursor = sqliteConnection.cursor()"
   ]
  },
  {
   "cell_type": "code",
   "execution_count": 8,
   "id": "c2add69a",
   "metadata": {},
   "outputs": [
    {
     "name": "stdout",
     "output_type": "stream",
     "text": [
      "[('actor',), ('country',), ('city',), ('address',), ('language',), ('category',), ('customer',), ('film',), ('film_actor',), ('film_category',), ('film_text',), ('inventory',), ('staff',), ('store',), ('payment',), ('rental',)]\n"
     ]
    }
   ],
   "source": [
    "#mostrar todas las tablas de la bd\n",
    "cursor.execute(\"SELECT name FROM sqlite_master WHERE type='table';\")\n",
    "print(cursor.fetchall())"
   ]
  },
  {
   "cell_type": "markdown",
   "id": "5eeff5ae",
   "metadata": {},
   "source": [
    "## Realizar consultas"
   ]
  },
  {
   "cell_type": "code",
   "execution_count": 13,
   "id": "b9cf417d",
   "metadata": {},
   "outputs": [
    {
     "name": "stdout",
     "output_type": "stream",
     "text": [
      "(1, 'ACADEMY DINOSAUR', 'A Epic Drama of a Feminist And a Mad Scientist who must Battle a Teacher in The Canadian Rockies', '2006', 1, None, 6, 0.99, 86, 20.99, 'PG', 'Deleted Scenes,Behind the Scenes', '2021-03-06 15:52:00')\n",
      "(2, 'ACE GOLDFINGER', 'A Astounding Epistle of a Database Administrator And a Explorer who must Find a Car in Ancient China', '2006', 1, None, 3, 4.99, 48, 12.99, 'G', 'Trailers,Deleted Scenes', '2021-03-06 15:52:00')\n",
      "(3, 'ADAPTATION HOLES', 'A Astounding Reflection of a Lumberjack And a Car who must Sink a Lumberjack in A Baloon Factory', '2006', 1, None, 7, 2.99, 50, 18.99, 'NC-17', 'Trailers,Deleted Scenes', '2021-03-06 15:52:00')\n",
      "(4, 'AFFAIR PREJUDICE', 'A Fanciful Documentary of a Frisbee And a Lumberjack who must Chase a Monkey in A Shark Tank', '2006', 1, None, 5, 2.99, 117, 26.99, 'G', 'Commentaries,Behind the Scenes', '2021-03-06 15:52:00')\n",
      "(5, 'AFRICAN EGG', 'A Fast-Paced Documentary of a Pastry Chef And a Dentist who must Pursue a Forensic Psychologist in The Gulf of Mexico', '2006', 1, None, 6, 2.99, 130, 22.99, 'G', 'Deleted Scenes', '2021-03-06 15:52:00')\n"
     ]
    }
   ],
   "source": [
    "query = \"SELECT * FROM film LIMIT 5\"\n",
    "cursor.execute(query)\n",
    "output = cursor.fetchall()\n",
    "for row in output:\n",
    "    print(row)"
   ]
  },
  {
   "cell_type": "code",
   "execution_count": 14,
   "id": "0803fa92",
   "metadata": {},
   "outputs": [
    {
     "name": "stdout",
     "output_type": "stream",
     "text": [
      "[(1, 'ACADEMY DINOSAUR', 'A Epic Drama of a Feminist And a Mad Scientist who must Battle a Teacher in The Canadian Rockies', '2006', 1, None, 6, 0.99, 86, 20.99, 'PG', 'Deleted Scenes,Behind the Scenes', '2021-03-06 15:52:00'), (2, 'ACE GOLDFINGER', 'A Astounding Epistle of a Database Administrator And a Explorer who must Find a Car in Ancient China', '2006', 1, None, 3, 4.99, 48, 12.99, 'G', 'Trailers,Deleted Scenes', '2021-03-06 15:52:00'), (3, 'ADAPTATION HOLES', 'A Astounding Reflection of a Lumberjack And a Car who must Sink a Lumberjack in A Baloon Factory', '2006', 1, None, 7, 2.99, 50, 18.99, 'NC-17', 'Trailers,Deleted Scenes', '2021-03-06 15:52:00'), (4, 'AFFAIR PREJUDICE', 'A Fanciful Documentary of a Frisbee And a Lumberjack who must Chase a Monkey in A Shark Tank', '2006', 1, None, 5, 2.99, 117, 26.99, 'G', 'Commentaries,Behind the Scenes', '2021-03-06 15:52:00'), (5, 'AFRICAN EGG', 'A Fast-Paced Documentary of a Pastry Chef And a Dentist who must Pursue a Forensic Psychologist in The Gulf of Mexico', '2006', 1, None, 6, 2.99, 130, 22.99, 'G', 'Deleted Scenes', '2021-03-06 15:52:00')]\n"
     ]
    }
   ],
   "source": [
    "#Otra forma \n",
    "cursor.execute(\"SELECT * FROM film LIMIT 5;\")\n",
    "print(cursor.fetchall())"
   ]
  },
  {
   "cell_type": "markdown",
   "id": "376e1ac1",
   "metadata": {},
   "source": [
    "## Realizar consultas con PANDAS"
   ]
  },
  {
   "cell_type": "code",
   "execution_count": 25,
   "id": "d147323d",
   "metadata": {},
   "outputs": [
    {
     "data": {
      "text/html": [
       "<div>\n",
       "<style scoped>\n",
       "    .dataframe tbody tr th:only-of-type {\n",
       "        vertical-align: middle;\n",
       "    }\n",
       "\n",
       "    .dataframe tbody tr th {\n",
       "        vertical-align: top;\n",
       "    }\n",
       "\n",
       "    .dataframe thead th {\n",
       "        text-align: right;\n",
       "    }\n",
       "</style>\n",
       "<table border=\"1\" class=\"dataframe\">\n",
       "  <thead>\n",
       "    <tr style=\"text-align: right;\">\n",
       "      <th></th>\n",
       "      <th>film_id</th>\n",
       "      <th>title</th>\n",
       "      <th>description</th>\n",
       "      <th>release_year</th>\n",
       "      <th>language_id</th>\n",
       "      <th>original_language_id</th>\n",
       "      <th>rental_duration</th>\n",
       "      <th>rental_rate</th>\n",
       "      <th>length</th>\n",
       "      <th>replacement_cost</th>\n",
       "      <th>rating</th>\n",
       "      <th>special_features</th>\n",
       "      <th>last_update</th>\n",
       "    </tr>\n",
       "  </thead>\n",
       "  <tbody>\n",
       "    <tr>\n",
       "      <th>0</th>\n",
       "      <td>15</td>\n",
       "      <td>ALIEN CENTER</td>\n",
       "      <td>A Brilliant Drama of a Cat And a Mad Scientist...</td>\n",
       "      <td>2006</td>\n",
       "      <td>1</td>\n",
       "      <td>None</td>\n",
       "      <td>5</td>\n",
       "      <td>2.99</td>\n",
       "      <td>46</td>\n",
       "      <td>10.99</td>\n",
       "      <td>NC-17</td>\n",
       "      <td>Trailers,Commentaries,Behind the Scenes</td>\n",
       "      <td>2021-03-06 15:52:00</td>\n",
       "    </tr>\n",
       "    <tr>\n",
       "      <th>1</th>\n",
       "      <td>469</td>\n",
       "      <td>IRON MOON</td>\n",
       "      <td>A Fast-Paced Documentary of a Mad Cow And a Bo...</td>\n",
       "      <td>2006</td>\n",
       "      <td>1</td>\n",
       "      <td>None</td>\n",
       "      <td>7</td>\n",
       "      <td>4.99</td>\n",
       "      <td>46</td>\n",
       "      <td>27.99</td>\n",
       "      <td>PG</td>\n",
       "      <td>Commentaries,Behind the Scenes</td>\n",
       "      <td>2021-03-06 15:52:04</td>\n",
       "    </tr>\n",
       "    <tr>\n",
       "      <th>2</th>\n",
       "      <td>504</td>\n",
       "      <td>KWAI HOMEWARD</td>\n",
       "      <td>A Amazing Drama of a Car And a Squirrel who mu...</td>\n",
       "      <td>2006</td>\n",
       "      <td>1</td>\n",
       "      <td>None</td>\n",
       "      <td>5</td>\n",
       "      <td>0.99</td>\n",
       "      <td>46</td>\n",
       "      <td>25.99</td>\n",
       "      <td>PG-13</td>\n",
       "      <td>Trailers,Commentaries</td>\n",
       "      <td>2021-03-06 15:52:04</td>\n",
       "    </tr>\n",
       "    <tr>\n",
       "      <th>3</th>\n",
       "      <td>505</td>\n",
       "      <td>LABYRINTH LEAGUE</td>\n",
       "      <td>A Awe-Inspiring Saga of a Composer And a Frisb...</td>\n",
       "      <td>2006</td>\n",
       "      <td>1</td>\n",
       "      <td>None</td>\n",
       "      <td>6</td>\n",
       "      <td>2.99</td>\n",
       "      <td>46</td>\n",
       "      <td>24.99</td>\n",
       "      <td>PG-13</td>\n",
       "      <td>Commentaries,Behind the Scenes</td>\n",
       "      <td>2021-03-06 15:52:04</td>\n",
       "    </tr>\n",
       "    <tr>\n",
       "      <th>4</th>\n",
       "      <td>730</td>\n",
       "      <td>RIDGEMONT SUBMARINE</td>\n",
       "      <td>A Unbelieveable Drama of a Waitress And a Comp...</td>\n",
       "      <td>2006</td>\n",
       "      <td>1</td>\n",
       "      <td>None</td>\n",
       "      <td>3</td>\n",
       "      <td>0.99</td>\n",
       "      <td>46</td>\n",
       "      <td>28.99</td>\n",
       "      <td>PG-13</td>\n",
       "      <td>Commentaries,Deleted Scenes,Behind the Scenes</td>\n",
       "      <td>2021-03-06 15:52:06</td>\n",
       "    </tr>\n",
       "    <tr>\n",
       "      <th>5</th>\n",
       "      <td>237</td>\n",
       "      <td>DIVORCE SHINING</td>\n",
       "      <td>A Unbelieveable Saga of a Crocodile And a Stud...</td>\n",
       "      <td>2006</td>\n",
       "      <td>1</td>\n",
       "      <td>None</td>\n",
       "      <td>3</td>\n",
       "      <td>2.99</td>\n",
       "      <td>47</td>\n",
       "      <td>21.99</td>\n",
       "      <td>G</td>\n",
       "      <td>Trailers,Commentaries,Deleted Scenes</td>\n",
       "      <td>2021-03-06 15:52:02</td>\n",
       "    </tr>\n",
       "    <tr>\n",
       "      <th>6</th>\n",
       "      <td>247</td>\n",
       "      <td>DOWNHILL ENOUGH</td>\n",
       "      <td>A Emotional Tale of a Pastry Chef And a Forens...</td>\n",
       "      <td>2006</td>\n",
       "      <td>1</td>\n",
       "      <td>None</td>\n",
       "      <td>3</td>\n",
       "      <td>0.99</td>\n",
       "      <td>47</td>\n",
       "      <td>19.99</td>\n",
       "      <td>G</td>\n",
       "      <td>Trailers,Commentaries,Deleted Scenes</td>\n",
       "      <td>2021-03-06 15:52:02</td>\n",
       "    </tr>\n",
       "    <tr>\n",
       "      <th>7</th>\n",
       "      <td>393</td>\n",
       "      <td>HALLOWEEN NUTS</td>\n",
       "      <td>A Amazing Panorama of a Forensic Psychologist ...</td>\n",
       "      <td>2006</td>\n",
       "      <td>1</td>\n",
       "      <td>None</td>\n",
       "      <td>6</td>\n",
       "      <td>2.99</td>\n",
       "      <td>47</td>\n",
       "      <td>19.99</td>\n",
       "      <td>PG-13</td>\n",
       "      <td>Deleted Scenes</td>\n",
       "      <td>2021-03-06 15:52:03</td>\n",
       "    </tr>\n",
       "    <tr>\n",
       "      <th>8</th>\n",
       "      <td>398</td>\n",
       "      <td>HANOVER GALAXY</td>\n",
       "      <td>A Stunning Reflection of a Girl And a Secret A...</td>\n",
       "      <td>2006</td>\n",
       "      <td>1</td>\n",
       "      <td>None</td>\n",
       "      <td>5</td>\n",
       "      <td>4.99</td>\n",
       "      <td>47</td>\n",
       "      <td>21.99</td>\n",
       "      <td>NC-17</td>\n",
       "      <td>Commentaries,Deleted Scenes,Behind the Scenes</td>\n",
       "      <td>2021-03-06 15:52:03</td>\n",
       "    </tr>\n",
       "    <tr>\n",
       "      <th>9</th>\n",
       "      <td>407</td>\n",
       "      <td>HAWK CHILL</td>\n",
       "      <td>A Action-Packed Drama of a Mad Scientist And a...</td>\n",
       "      <td>2006</td>\n",
       "      <td>1</td>\n",
       "      <td>None</td>\n",
       "      <td>5</td>\n",
       "      <td>0.99</td>\n",
       "      <td>47</td>\n",
       "      <td>12.99</td>\n",
       "      <td>PG-13</td>\n",
       "      <td>Behind the Scenes</td>\n",
       "      <td>2021-03-06 15:52:03</td>\n",
       "    </tr>\n",
       "  </tbody>\n",
       "</table>\n",
       "</div>"
      ],
      "text/plain": [
       "   film_id                title  \\\n",
       "0       15         ALIEN CENTER   \n",
       "1      469            IRON MOON   \n",
       "2      504        KWAI HOMEWARD   \n",
       "3      505     LABYRINTH LEAGUE   \n",
       "4      730  RIDGEMONT SUBMARINE   \n",
       "5      237      DIVORCE SHINING   \n",
       "6      247      DOWNHILL ENOUGH   \n",
       "7      393       HALLOWEEN NUTS   \n",
       "8      398       HANOVER GALAXY   \n",
       "9      407           HAWK CHILL   \n",
       "\n",
       "                                         description release_year  \\\n",
       "0  A Brilliant Drama of a Cat And a Mad Scientist...         2006   \n",
       "1  A Fast-Paced Documentary of a Mad Cow And a Bo...         2006   \n",
       "2  A Amazing Drama of a Car And a Squirrel who mu...         2006   \n",
       "3  A Awe-Inspiring Saga of a Composer And a Frisb...         2006   \n",
       "4  A Unbelieveable Drama of a Waitress And a Comp...         2006   \n",
       "5  A Unbelieveable Saga of a Crocodile And a Stud...         2006   \n",
       "6  A Emotional Tale of a Pastry Chef And a Forens...         2006   \n",
       "7  A Amazing Panorama of a Forensic Psychologist ...         2006   \n",
       "8  A Stunning Reflection of a Girl And a Secret A...         2006   \n",
       "9  A Action-Packed Drama of a Mad Scientist And a...         2006   \n",
       "\n",
       "   language_id original_language_id  rental_duration  rental_rate  length  \\\n",
       "0            1                 None                5         2.99      46   \n",
       "1            1                 None                7         4.99      46   \n",
       "2            1                 None                5         0.99      46   \n",
       "3            1                 None                6         2.99      46   \n",
       "4            1                 None                3         0.99      46   \n",
       "5            1                 None                3         2.99      47   \n",
       "6            1                 None                3         0.99      47   \n",
       "7            1                 None                6         2.99      47   \n",
       "8            1                 None                5         4.99      47   \n",
       "9            1                 None                5         0.99      47   \n",
       "\n",
       "   replacement_cost rating                               special_features  \\\n",
       "0             10.99  NC-17        Trailers,Commentaries,Behind the Scenes   \n",
       "1             27.99     PG                 Commentaries,Behind the Scenes   \n",
       "2             25.99  PG-13                          Trailers,Commentaries   \n",
       "3             24.99  PG-13                 Commentaries,Behind the Scenes   \n",
       "4             28.99  PG-13  Commentaries,Deleted Scenes,Behind the Scenes   \n",
       "5             21.99      G           Trailers,Commentaries,Deleted Scenes   \n",
       "6             19.99      G           Trailers,Commentaries,Deleted Scenes   \n",
       "7             19.99  PG-13                                 Deleted Scenes   \n",
       "8             21.99  NC-17  Commentaries,Deleted Scenes,Behind the Scenes   \n",
       "9             12.99  PG-13                              Behind the Scenes   \n",
       "\n",
       "           last_update  \n",
       "0  2021-03-06 15:52:00  \n",
       "1  2021-03-06 15:52:04  \n",
       "2  2021-03-06 15:52:04  \n",
       "3  2021-03-06 15:52:04  \n",
       "4  2021-03-06 15:52:06  \n",
       "5  2021-03-06 15:52:02  \n",
       "6  2021-03-06 15:52:02  \n",
       "7  2021-03-06 15:52:03  \n",
       "8  2021-03-06 15:52:03  \n",
       "9  2021-03-06 15:52:03  "
      ]
     },
     "execution_count": 25,
     "metadata": {},
     "output_type": "execute_result"
    }
   ],
   "source": [
    "query = \"SELECT * FROM film ORDER BY length\"\n",
    "pd.read_sql_query(query,sqliteConnection).head(10)"
   ]
  },
  {
   "cell_type": "markdown",
   "id": "cbc41901",
   "metadata": {},
   "source": [
    "**Guardar las queries o DataFrame en archivos CSV**"
   ]
  },
  {
   "cell_type": "code",
   "execution_count": 28,
   "id": "e873442e",
   "metadata": {},
   "outputs": [],
   "source": [
    "query = \"SELECT * FROM film ORDER BY length\"\n",
    "df = pd.read_sql_query(query,sqliteConnection).head(5)"
   ]
  },
  {
   "cell_type": "code",
   "execution_count": 29,
   "id": "0df95270",
   "metadata": {},
   "outputs": [],
   "source": [
    "df.to_csv('example.csv', index=False)"
   ]
  },
  {
   "cell_type": "markdown",
   "id": "39807131",
   "metadata": {},
   "source": [
    "## Cerrar las conexiones"
   ]
  },
  {
   "cell_type": "code",
   "execution_count": 30,
   "id": "81c2b07e",
   "metadata": {},
   "outputs": [],
   "source": [
    "#cerrar cursos\n",
    "cursor.close()\n",
    "\n",
    "#cerrar BBDD\n",
    "sqliteConnection.close()"
   ]
  },
  {
   "cell_type": "code",
   "execution_count": null,
   "id": "133a4aaf",
   "metadata": {},
   "outputs": [],
   "source": []
  }
 ],
 "metadata": {
  "kernelspec": {
   "display_name": "Python 3",
   "language": "python",
   "name": "python3"
  },
  "language_info": {
   "codemirror_mode": {
    "name": "ipython",
    "version": 3
   },
   "file_extension": ".py",
   "mimetype": "text/x-python",
   "name": "python",
   "nbconvert_exporter": "python",
   "pygments_lexer": "ipython3",
   "version": "3.8.8"
  }
 },
 "nbformat": 4,
 "nbformat_minor": 5
}
